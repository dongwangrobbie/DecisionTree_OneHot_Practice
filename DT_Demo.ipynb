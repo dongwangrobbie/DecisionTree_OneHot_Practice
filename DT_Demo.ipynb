{
 "cells": [
  {
   "cell_type": "code",
   "execution_count": 66,
   "metadata": {
    "collapsed": true
   },
   "outputs": [],
   "source": [
    "import pandas as pd\n",
    "import numpy as np\n",
    "eps = np.finfo(float).eps\n",
    "review = pd.read_csv('/Users/wangdong/Desktop/PyCharm WorkSpace/ML_Rearch_Practice/DecisionTree/salaries.csv')"
   ]
  },
  {
   "cell_type": "code",
   "execution_count": 67,
   "metadata": {},
   "outputs": [],
   "source": [
    "featureList = []\n",
    "labelList = []"
   ]
  },
  {
   "cell_type": "code",
   "execution_count": 68,
   "metadata": {},
   "outputs": [
    {
     "name": "stdout",
     "output_type": "stream",
     "text": [
      "0     0\n1     0\n2     1\n3     1\n4     0\n5     1\n6     0\n7     0\n8     0\n9     1\n10    1\n11    1\n12    1\n13    1\n14    1\n15    1\nName: salary_more_then_100k, dtype: int64\n<class 'pandas.core.series.Series'>\n[0, 0, 1, 1, 0, 1, 0, 0, 0, 1, 1, 1, 1, 1, 1, 1]\n"
     ]
    }
   ],
   "source": [
    "# # Fill the label list\n",
    "salary = review['salary_more_then_100k']\n",
    "print(salary)\n",
    "print(type(salary))\n",
    "for n in salary:\n",
    "    labelList.append(n)\n",
    "print(labelList)"
   ]
  },
  {
   "cell_type": "code",
   "execution_count": 69,
   "metadata": {},
   "outputs": [],
   "source": [
    "def unique_vals(dataFrame, col):\n",
    "    \"\"\"Find the unique values for a column in a dataFrame.\"\"\"\n",
    "    result = set()\n",
    "    for e in dataFrame[col]:\n",
    "        result.add(e)\n",
    "    return result, len(result)"
   ]
  },
  {
   "cell_type": "code",
   "execution_count": 70,
   "metadata": {},
   "outputs": [],
   "source": [
    "def fill_list(featureList, set):\n",
    "    while(len(set) != 0):\n",
    "        featureList.append(set.pop())\n",
    "    return featureList"
   ]
  },
  {
   "cell_type": "code",
   "execution_count": 71,
   "metadata": {},
   "outputs": [
    {
     "name": "stdout",
     "output_type": "stream",
     "text": [
      "{'google', 'abc pharma', 'facebook'}\n8\nfeatureList \n['google', 'abc pharma', 'facebook', 'computer programmer', 'sales executive', 'business manager', 'bachelors', 'masters']\n"
     ]
    }
   ],
   "source": [
    "companySet, lenCompany = unique_vals(review, 'company')\n",
    "print(companySet)\n",
    "fill_list(featureList, companySet)\n",
    "# while len(companySet)!= 0:\n",
    "#     featureList.append(companySet.pop())\n",
    "\n",
    "jobSet, lenJob = unique_vals(review, 'job')\n",
    "degreeSet, lenDegree = unique_vals(review, 'degree')\n",
    "# total_len for featureList\n",
    "totalLen = lenCompany + lenDegree + lenJob\n",
    "\n",
    "fill_list(featureList, jobSet)\n",
    "fill_list(featureList, degreeSet)\n",
    "print(totalLen)\n",
    "print(\"featureList \")\n",
    "print(featureList)\n",
    "featureList_n = []"
   ]
  },
  {
   "cell_type": "code",
   "execution_count": 72,
   "metadata": {},
   "outputs": [
    {
     "name": "stdout",
     "output_type": "stream",
     "text": [
      "['google', 'abc pharma', 'facebook', 'computer programmer', 'sales executive', 'business manager', 'bachelors', 'masters']\n[[1, 0, 0, 0, 1, 0, 1, 0], [1, 0, 0, 0, 1, 0, 0, 1], [1, 0, 0, 0, 0, 1, 1, 0], [1, 0, 0, 0, 0, 1, 0, 1], [1, 0, 0, 1, 0, 0, 1, 0], [1, 0, 0, 1, 0, 0, 0, 1], [0, 1, 0, 0, 1, 0, 0, 1], [0, 1, 0, 1, 0, 0, 1, 0], [0, 1, 0, 0, 0, 1, 1, 0], [0, 1, 0, 0, 0, 1, 0, 1], [0, 0, 1, 0, 1, 0, 1, 0], [0, 0, 1, 0, 1, 0, 0, 1], [0, 0, 1, 0, 0, 1, 1, 0], [0, 0, 1, 0, 0, 1, 0, 1], [0, 0, 1, 1, 0, 0, 1, 0], [0, 0, 1, 1, 0, 0, 0, 1]]\n"
     ]
    }
   ],
   "source": [
    "for i in range(0, len(review.index)):\n",
    "    tempArray = []\n",
    "    temp = review.iloc[i]\n",
    "    temp = set(temp)\n",
    "    for n in range(0, totalLen):\n",
    "        if(temp.__contains__(featureList[n])):\n",
    "            tempArray.append(1)\n",
    "        else:\n",
    "            tempArray.append(0)\n",
    "    featureList_n.append(tempArray)\n",
    "print(featureList)\n",
    "print(featureList_n)"
   ]
  },
  {
   "cell_type": "code",
   "execution_count": 73,
   "metadata": {},
   "outputs": [],
   "source": [
    "def find_entropy(df):\n",
    "    # To make the code generic, changing target variable class name\n",
    "    labelColumn = df.keys()[-1]\n",
    "    entropy = 0\n",
    "    # Create a hash list for elements in labelColumn\n",
    "    values = df[labelColumn].unique()\n",
    "    for value in values:\n",
    "        # fraction = the number value in label / the total number of elements in column\n",
    "        fraction = df[labelColumn].value_counts()[value] / len(df[labelColumn])\n",
    "        # entropy equation\n",
    "        entropy += -fraction * np.log2(fraction)\n",
    "    return entropy"
   ]
  },
  {
   "cell_type": "code",
   "execution_count": 74,
   "metadata": {},
   "outputs": [],
   "source": [
    "def find_entropy_attribute(df, attribute):\n",
    "\n",
    "    # We can choose the column by changing the df.keys[number]\n",
    "    labelColumn = df.keys()[-1]\n",
    "    label_variables = df[labelColumn].unique()\n",
    "    # This gives different features in that attribute\n",
    "    feature_Variables = df[attribute].unique()\n",
    "    entropy2 = 0\n",
    "    for fv in feature_Variables:\n",
    "        entropy = 0\n",
    "        # Here it must be O(n^2)\n",
    "        for lv in label_variables:\n",
    "            # Find the intersection of certain feature value and certain label value\n",
    "            # numerator\n",
    "            num = len(df[attribute][df[attribute] == fv][df[labelColumn] == lv])\n",
    "            # denominator\n",
    "            den = len(df[attribute][df[attribute] == fv])\n",
    "            # Here we use eps as buffer to make sure the faction is float type\n",
    "            fraction = num / (den + eps)\n",
    "            entropy += -fraction * np.log2(fraction + eps)\n",
    "        # fraction2 is the one about the certain feature variable / total elements in a column\n",
    "        fraction2 = den / len(df)\n",
    "        # get the sum result\n",
    "        entropy2 += -fraction2 * entropy\n",
    "    return abs(entropy2)"
   ]
  },
  {
   "cell_type": "code",
   "execution_count": 75,
   "metadata": {},
   "outputs": [],
   "source": [
    "# The method is to find the node(column) that has highest information gain\n",
    "def find_winner(df):\n",
    "    # the entropy of list that temporarily saves the values of each entropy\n",
    "    Entropy_att = []\n",
    "    # the information gain of each feature based on label entropy\n",
    "    IG = []\n",
    "    # Here we iterate the column one by one except the label column.\n",
    "    for key in df.keys()[:-1]:\n",
    "        # Find the entropy of certain feature\n",
    "        Entropy_att.append(find_entropy_attribute(df, key))\n",
    "        # Find the information gain for certain feature\n",
    "        IG.append(find_entropy(df) - find_entropy_attribute(df, key))\n",
    "    # Among the all features, will choose the one that has highest\n",
    "    # In this method, we return the column\n",
    "    return df.keys()[:-1][np.argmax(IG)]"
   ]
  },
  {
   "cell_type": "code",
   "execution_count": 76,
   "metadata": {},
   "outputs": [],
   "source": [
    "def get_subtable(df, node, value):\n",
    "    # drop the value used already\n",
    "    return df[df[node] == value].reset_index(drop=True)"
   ]
  },
  {
   "cell_type": "code",
   "execution_count": 77,
   "metadata": {},
   "outputs": [],
   "source": [
    "def buildTree(df, tree=None):\n",
    "    labelColumn = df.keys()[-1]\n",
    "\n",
    "    # Get attribute with maximum information gain\n",
    "    node = find_winner(df)\n",
    "\n",
    "    # Get hash value of that attribute(node)\n",
    "    attValue = np.unique(df[node])\n",
    "\n",
    "    # Initialize an empty dictionary to create tree\n",
    "    # If tree is not none, the skip it.\n",
    "    if tree is None:\n",
    "        tree = {}\n",
    "        tree[node] = {}\n",
    "\n",
    "    # We make loop to construct a tree by calling this function recursively.\n",
    "    # In this we check if the subset is pure and stops if it is pure.\n",
    "    for value in attValue:\n",
    "        subtable = get_subtable(df, node, value)\n",
    "        clValue, counts = np.unique(subtable['salary_more_than_100k'], return_counts=True)\n",
    "\n",
    "        if len(counts) == 1:  # Checking purity of subset\n",
    "            # Here value is the key, the first(only) line of subtable is the leaf element\n",
    "            tree[node][value] = clValue[0]\n",
    "            #\n",
    "        else:\n",
    "            # Recursively produce a new tree{} and put into the one of hash value of on feature\n",
    "            # That is method to create the subtree\n",
    "            tree[node][value] = buildTree(subtable)  # Calling the function recursively\n",
    "    # Here we return a data type of tree{{...}}\n",
    "    return tree"
   ]
  },
  {
   "cell_type": "code",
   "execution_count": 78,
   "metadata": {},
   "outputs": [
    {
     "name": "stdout",
     "output_type": "stream",
     "text": [
      "[[1, 0, 0, 0, 1, 0, 1, 0, 0], [1, 0, 0, 0, 1, 0, 0, 1, 0], [1, 0, 0, 0, 0, 1, 1, 0, 1], [1, 0, 0, 0, 0, 1, 0, 1, 1], [1, 0, 0, 1, 0, 0, 1, 0, 0], [1, 0, 0, 1, 0, 0, 0, 1, 1], [0, 1, 0, 0, 1, 0, 0, 1, 0], [0, 1, 0, 1, 0, 0, 1, 0, 0], [0, 1, 0, 0, 0, 1, 1, 0, 0], [0, 1, 0, 0, 0, 1, 0, 1, 1], [0, 0, 1, 0, 1, 0, 1, 0, 1], [0, 0, 1, 0, 1, 0, 0, 1, 1], [0, 0, 1, 0, 0, 1, 1, 0, 1], [0, 0, 1, 0, 0, 1, 0, 1, 1], [0, 0, 1, 1, 0, 0, 1, 0, 1], [0, 0, 1, 1, 0, 0, 0, 1, 1]]\n    google  abc pharma  facebook  computer programmer  sales executive  \\\n0        1           0         0                    0                1   \n1        1           0         0                    0                1   \n2        1           0         0                    0                0   \n3        1           0         0                    0                0   \n4        1           0         0                    1                0   \n5        1           0         0                    1                0   \n6        0           1         0                    0                1   \n7        0           1         0                    1                0   \n8        0           1         0                    0                0   \n9        0           1         0                    0                0   \n10       0           0         1                    0                1   \n11       0           0         1                    0                1   \n12       0           0         1                    0                0   \n13       0           0         1                    0                0   \n14       0           0         1                    1                0   \n15       0           0         1                    1                0   \n\n    business manager  bachelors  masters  salary_more_than_100k  \n0                  0          1        0                      0  \n1                  0          0        1                      0  \n2                  1          1        0                      1  \n3                  1          0        1                      1  \n4                  0          1        0                      0  \n5                  0          0        1                      1  \n6                  0          0        1                      0  \n7                  0          1        0                      0  \n8                  1          1        0                      0  \n9                  1          0        1                      1  \n10                 0          1        0                      1  \n11                 0          0        1                      1  \n12                 1          1        0                      1  \n13                 1          0        1                      1  \n14                 0          1        0                      1  \n15                 0          0        1                      1  \n"
     ]
    }
   ],
   "source": [
    "#Tester\n",
    "header_list = featureList\n",
    "header_list.append('salary_more_than_100k')\n",
    "df_array = featureList_n\n",
    "for i in range(0, len(labelList)):\n",
    "    df_array[i].append(labelList[i])\n",
    "print(df_array)\n",
    "\n",
    "df = pd.DataFrame(df_array, columns=header_list)\n",
    "print(df)\n",
    "\n"
   ]
  },
  {
   "cell_type": "code",
   "execution_count": 79,
   "metadata": {},
   "outputs": [
    {
     "name": "stdout",
     "output_type": "stream",
     "text": [
      "{'facebook': {0: {'sales executive': {0: {'bachelors': {0: 1,\n                                                        1: {'google': {0: 0,\n                                                                       1: {'computer programmer': {0: 1,\n                                                                                                   1: 0}}}}}},\n                                      1: 0}},\n              1: 1}}\n"
     ]
    }
   ],
   "source": [
    "tree = buildTree(df)\n",
    "import pprint\n",
    "pprint.pprint(tree)"
   ]
  },
  {
   "cell_type": "code",
   "execution_count": null,
   "metadata": {},
   "outputs": [],
   "source": []
  }
 ],
 "metadata": {
  "kernelspec": {
   "display_name": "Python 2",
   "language": "python",
   "name": "python2"
  },
  "language_info": {
   "codemirror_mode": {
    "name": "ipython",
    "version": 2
   },
   "file_extension": ".py",
   "mimetype": "text/x-python",
   "name": "python",
   "nbconvert_exporter": "python",
   "pygments_lexer": "ipython2",
   "version": "2.7.6"
  }
 },
 "nbformat": 4,
 "nbformat_minor": 0
}
